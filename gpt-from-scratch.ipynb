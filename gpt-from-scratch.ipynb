{
 "cells": [
  {
   "cell_type": "markdown",
   "id": "00133928-e768-493f-8d03-75715cfac919",
   "metadata": {},
   "source": [
    "# Mari Buat GPT dari Kosong\n",
    "\n",
    "ChatGPT merupakan perkataan yang paling **hype** dan gempak yang kita dengar dalam beberapa tahun kebelakangan ni. Tapi berapa ramai yang tahu apa maksud di belakangnya. GPT membawa maksud Generative Pre-Trained Transformer. Ia merupakan antara arkitekture jaringan neural yang sofistikated ketika ini. Dalam notebook ini, kita akan cuba untuk buat GPT dari kosong"
   ]
  },
  {
   "cell_type": "code",
   "execution_count": 1,
   "id": "058d12d8-204f-434f-9733-3e8283e757ff",
   "metadata": {},
   "outputs": [],
   "source": [
    "import torch\n",
    "from torch import nn\n",
    "import torch.nn.functional as F"
   ]
  },
  {
   "cell_type": "code",
   "execution_count": 2,
   "id": "d8da1d9b-1d65-49f2-abb2-0af89035c18f",
   "metadata": {},
   "outputs": [],
   "source": [
    "#nombor sample\n",
    "sequence_length = 512\n",
    "embedding_dimension = 300\n",
    "head_dimension= 32\n",
    "number_heads = 8\n",
    "batch_size = 16\n",
    "scaling_factor = head_dimension ** -0.5\n"
   ]
  },
  {
   "cell_type": "code",
   "execution_count": 3,
   "id": "170f8ecd-00fa-42ae-bbda-2ec0cb3fa261",
   "metadata": {},
   "outputs": [
    {
     "data": {
      "text/plain": [
       "torch.Size([512, 300])"
      ]
     },
     "execution_count": 3,
     "metadata": {},
     "output_type": "execute_result"
    }
   ],
   "source": [
    "#single batch fake training data\n",
    "input_data = torch.randn((sequence_length,embedding_dimension))\n",
    "input_data.shape"
   ]
  },
  {
   "cell_type": "code",
   "execution_count": 4,
   "id": "56333c5a-eaae-429b-b45a-de134d4b09b3",
   "metadata": {},
   "outputs": [
    {
     "data": {
      "text/plain": [
       "Linear(in_features=300, out_features=256, bias=True)"
      ]
     },
     "execution_count": 4,
     "metadata": {},
     "output_type": "execute_result"
    }
   ],
   "source": [
    "#key, query and value layer\n",
    "query_matrix = nn.Linear(embedding_dimension,number_heads * head_dimension)\n",
    "key_matrix = nn.Linear(embedding_dimension,number_heads * head_dimension)\n",
    "value_matrix = nn.Linear(embedding_dimension,number_heads * head_dimension)\n",
    "\n",
    "query_matrix"
   ]
  },
  {
   "cell_type": "code",
   "execution_count": null,
   "id": "e909d71b-fc54-4c47-a822-9f728c55daef",
   "metadata": {},
   "outputs": [],
   "source": []
  }
 ],
 "metadata": {
  "kernelspec": {
   "display_name": "Python 3 (ipykernel)",
   "language": "python",
   "name": "python3"
  },
  "language_info": {
   "codemirror_mode": {
    "name": "ipython",
    "version": 3
   },
   "file_extension": ".py",
   "mimetype": "text/x-python",
   "name": "python",
   "nbconvert_exporter": "python",
   "pygments_lexer": "ipython3",
   "version": "3.12.1"
  }
 },
 "nbformat": 4,
 "nbformat_minor": 5
}
